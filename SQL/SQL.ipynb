{
 "cells": [
  {
   "cell_type": "markdown",
   "id": "aa738472",
   "metadata": {},
   "source": [
    " Find top user(s) who have sent and received the most messages. Allow for ties and return answer ordered by total_messages desc\n",
    "\n",
    " ``` \n",
    " table: sms_msgs\n",
    " schema: \t\n",
    "message_id\tbigint\n",
    "sender_id\tbigint\n",
    "receiver_id\tbigint\n",
    "message_content_hashed\tvarchar\n",
    "connection_quality\tvarchar\n",
    "sent_at_date\ttimestamp\n",
    "```"
   ]
  },
  {
   "cell_type": "markdown",
   "id": "5b3279a1",
   "metadata": {},
   "source": []
  },
  {
   "cell_type": "code",
   "execution_count": null,
   "id": "3f74ad3d",
   "metadata": {
    "vscode": {
     "languageId": "sql"
    }
   },
   "outputs": [],
   "source": [
    "with cte_combined_messages as (\n",
    "select message_id, sender_id, receiver_id\n",
    "from\n",
    "sms_msgs\n",
    "  \n",
    "union all\n",
    "  \n",
    "select message_id, receiver_id as sender_id , sender_id as receiver_id\n",
    "from\n",
    "sms_msgs\n",
    "  )\n",
    "Select sender_id , \n",
    "count(message_id) as total_messages \n",
    "\n",
    "from\n",
    "cte_combined_messages\n",
    "group by 1\n",
    "qualify dense_rank() over (order by count(message_id) desc) = 1\n"
   ]
  },
  {
   "cell_type": "code",
   "execution_count": null,
   "id": "fe13d7ed",
   "metadata": {
    "vscode": {
     "languageId": "sql"
    }
   },
   "outputs": [],
   "source": [
    "### MAX Streak Length"
   ]
  },
  {
   "cell_type": "code",
   "execution_count": null,
   "id": "00351c96",
   "metadata": {
    "vscode": {
     "languageId": "sql"
    }
   },
   "outputs": [],
   "source": [
    "WITH login_dates AS (\n",
    "  SELECT DISTINCT user_id, login_date\n",
    "  FROM logins\n",
    "),\n",
    "grouped_logins AS (\n",
    "  SELECT \n",
    "    user_id,\n",
    "    login_date,\n",
    "    DATEADD('day', -ROW_NUMBER() OVER (\n",
    "      PARTITION BY user_id ORDER BY login_date\n",
    "    ), login_date) AS streak_group\n",
    "  FROM login_dates\n",
    "),\n",
    "streaks AS (\n",
    "  SELECT \n",
    "    user_id,\n",
    "    MIN(login_date) AS streak_start,\n",
    "    MAX(login_date) AS streak_end,\n",
    "    COUNT(*) AS streak_length\n",
    "  FROM grouped_logins\n",
    "  GROUP BY user_id, streak_group\n",
    "),\n",
    "ranked_streaks AS (\n",
    "  SELECT *,\n",
    "         ROW_NUMBER() OVER (\n",
    "           PARTITION BY user_id \n",
    "           ORDER BY streak_length DESC, streak_start\n",
    "         ) AS rn\n",
    "  FROM streaks\n",
    ")\n",
    "SELECT user_id, streak_start, streak_end, streak_length\n",
    "FROM ranked_streaks\n",
    "WHERE rn = 1;\n"
   ]
  },
  {
   "cell_type": "markdown",
   "id": "7d1c9885",
   "metadata": {},
   "source": [
    "### Conversion Funnel\n",
    "\n",
    "Funnel Stages:\n",
    "\n",
    "- Visited site\n",
    "- Signed up\n",
    "- Created first project\n",
    "- Made a purchase"
   ]
  },
  {
   "cell_type": "code",
   "execution_count": null,
   "id": "cb1242c7",
   "metadata": {
    "vscode": {
     "languageId": "sql"
    }
   },
   "outputs": [],
   "source": [
    "#### conversion funnel\n",
    "\n",
    "WITH funnel_raw AS (\n",
    "  SELECT DISTINCT user_id,\n",
    "    MAX(CASE WHEN event_name = 'visited_site' THEN 1 ELSE 0 END) AS visited,\n",
    "    MAX(CASE WHEN event_name = 'signed_up' THEN 1 ELSE 0 END) AS signed_up,\n",
    "    MAX(CASE WHEN event_name = 'created_project' THEN 1 ELSE 0 END) AS created_project,\n",
    "    MAX(CASE WHEN event_name = 'made_purchase' THEN 1 ELSE 0 END) AS made_purchase\n",
    "  FROM events\n",
    "  GROUP BY user_id\n",
    "),\n",
    "funnel_counts AS (\n",
    "  SELECT\n",
    "    COUNT(DISTINCT user_id) AS visited_users,\n",
    "    COUNT(DISTINCT CASE WHEN signed_up = 1 THEN user_id END) AS signed_up_users,\n",
    "    COUNT(DISTINCT CASE WHEN created_project = 1 THEN user_id END) AS created_project_users,\n",
    "    COUNT(DISTINCT CASE WHEN made_purchase = 1 THEN user_id END) AS purchase_users\n",
    "  FROM funnel_raw\n",
    "),\n",
    "final_funnel AS (\n",
    "  SELECT\n",
    "    visited_users,\n",
    "    signed_up_users,\n",
    "    created_project_users,\n",
    "    purchase_users,\n",
    "    ROUND(100.0 * signed_up_users / visited_users, 2) AS pct_signed_up,\n",
    "    ROUND(100.0 * created_project_users / signed_up_users, 2) AS pct_created_project,\n",
    "    ROUND(100.0 * purchase_users / created_project_users, 2) AS pct_purchase\n",
    "  FROM funnel_counts\n",
    ")\n",
    "SELECT * FROM final_funnel;\n"
   ]
  },
  {
   "cell_type": "markdown",
   "id": "d5a1d2d9",
   "metadata": {},
   "source": [
    "### cohort analysis\n",
    "```\n",
    "user_events (\n",
    "  user_id STRING,\n",
    "  event_name STRING,\n",
    "  event_time TIMESTAMP\n",
    ")"
   ]
  },
  {
   "cell_type": "code",
   "execution_count": null,
   "id": "7a478748",
   "metadata": {
    "vscode": {
     "languageId": "sql"
    }
   },
   "outputs": [],
   "source": [
    "WITH user_signup AS (\n",
    "  -- Step 1: Get signup week per user \n",
    "  SELECT \n",
    "    user_id,\n",
    "    MIN(DATE_TRUNC('WEEK', event_time)) AS signup_week\n",
    "  FROM user_events\n",
    "  WHERE event_name = 'signup'\n",
    "  GROUP BY user_id\n",
    "),\n",
    "user_activity AS (\n",
    "  -- Step 2: Get all activity weeks\n",
    "  SELECT \n",
    "    e.user_id,\n",
    "    u.signup_week,\n",
    "    DATE_TRUNC('WEEK', e.event_time) AS activity_week\n",
    "  FROM user_events e\n",
    "  JOIN user_signup u ON e.user_id = u.user_id\n",
    "),\n",
    "weekly_cohorts AS (\n",
    "  -- Step 3: Calculate week offset from signup\n",
    "  SELECT \n",
    "    signup_week,\n",
    "    DATEDIFF('WEEK', signup_week, activity_week) AS week_number,\n",
    "    COUNT(DISTINCT user_id) AS active_users\n",
    "  FROM user_activity\n",
    "  GROUP BY signup_week, week_number\n",
    ")\n",
    "-- Step 4: Pivot or visualize in BI tool (like Tableau or Mode)\n",
    "SELECT *\n",
    "FROM weekly_cohorts\n",
    "ORDER BY signup_week, week_number;\n"
   ]
  },
  {
   "cell_type": "markdown",
   "id": "3db32e65",
   "metadata": {},
   "source": []
  },
  {
   "cell_type": "code",
   "execution_count": null,
   "id": "4c28bd6c",
   "metadata": {
    "vscode": {
     "languageId": "sql"
    }
   },
   "outputs": [],
   "source": [
    "### subscription overlap\n",
    "\n",
    "SELECT s1.user_id, s1.subscription_id, s2.subscription_id\n",
    "FROM subscriptions s1\n",
    "JOIN subscriptions s2\n",
    "  ON s1.user_id = s2.user_id\n",
    " AND s1.subscription_id < s2.subscription_id\n",
    " AND s1.start_date <= s2.end_date\n",
    " AND s2.start_date <= s1.end_date;"
   ]
  },
  {
   "cell_type": "markdown",
   "id": "aa70bd94",
   "metadata": {},
   "source": [
    "- Loss rate by month\n",
    "- Loss rate within 30 days of transaction"
   ]
  },
  {
   "cell_type": "code",
   "execution_count": null,
   "id": "a25efe31",
   "metadata": {
    "vscode": {
     "languageId": "sql"
    }
   },
   "outputs": [],
   "source": [
    "with cte_trans AS (\n",
    "payment_id, date_trunc('month', transaction_date) as date_month ,\n",
    "SUm(transaction_amount_usd) as total_trans\n",
    "    from\n",
    "    payment\n",
    "    group by \n",
    "date_trunc('month', transaction_date), payment_id\n",
    "),\n",
    "cte_loss AS (\n",
    "transaction_id, date_trunc('month', loss_event_date) as date_month ,\n",
    "SUm(loss_charge_off_amt) as total_loss\n",
    "    from\n",
    "    loss\n",
    "    group by \n",
    "date_trunc('month', loss_event_date), transaction_id\n",
    ")\n",
    "select\n",
    "t.date_month,\n",
    "total_loss*100.0/total_trans as loss_rate\n",
    "from\n",
    "cte_trans t\n",
    "join cte_loss  l on on t.payment_id = l.transaction_id\n",
    "group by t.date_month\n"
   ]
  },
  {
   "cell_type": "code",
   "execution_count": null,
   "id": "ab2d5115",
   "metadata": {
    "vscode": {
     "languageId": "sql"
    }
   },
   "outputs": [],
   "source": [
    "with cte_trans AS (\n",
    "    select\n",
    "    p.transaction_date,\n",
    "    l.loss_event_date,\n",
    "    p.transaction_amount,\n",
    "    l.loss_amount\n",
    "    from\n",
    "    payment p\n",
    "    left join loss l on p.payment_id = l.transaction_id and l.loss_event_date <= date_add('day',30,p.transaction_date)\n",
    ")\n",
    "select date_trunc('month',transaction_date) as date_month, sum(  transaction_amount) as total_trans, sum(loss_amount) as total_loss,\n",
    "total_loss/total_trans as loss_rate\n",
    "from\n",
    "cte_trans\n"
   ]
  }
 ],
 "metadata": {
  "language_info": {
   "name": "python"
  }
 },
 "nbformat": 4,
 "nbformat_minor": 5
}
